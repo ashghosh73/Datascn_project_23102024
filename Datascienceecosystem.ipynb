{
 "cells": [
  {
   "cell_type": "markdown",
   "id": "757bc313-eaed-46ec-91a6-d24a1a7a83d6",
   "metadata": {},
   "source": [
    "# Data Science Tools and Ecosystem"
   ]
  },
  {
   "cell_type": "markdown",
   "id": "625361cc-1291-496f-b6cf-f08369e88c76",
   "metadata": {},
   "source": [
    "In this notebook, Data Science Tools and Ecosystem are summarized."
   ]
  },
  {
   "cell_type": "markdown",
   "id": "e649c634-206e-4bfe-9c73-f8c4830e7a23",
   "metadata": {},
   "source": [
    "**Objective**\n",
    "- Data Science Lanuguages\n",
    "- Data Science Libraries\n",
    "- Data Science Tools"
   ]
  },
  {
   "cell_type": "markdown",
   "id": "effbf587-0974-4005-a456-79bc2942d6ec",
   "metadata": {},
   "source": [
    "Some of the popular languages that Data Scientists use are:\n",
    "1. Python\n",
    "2. R\n",
    "3. Scala"
   ]
  },
  {
   "cell_type": "markdown",
   "id": "ce632952-7461-4018-ab4e-c57ab27e6054",
   "metadata": {},
   "source": [
    "Some of the commonly used libraries used by Data Scientists include:\n",
    "1. Numpy\n",
    "2. Panda\n",
    "3. Matplotlib"
   ]
  },
  {
   "cell_type": "markdown",
   "id": "6e06ad31-9048-4bf4-a9c1-d84d1cabcbea",
   "metadata": {},
   "source": [
    "|Data Science Tools|\n",
    "|-----------------|\n",
    "|Jupyter Notebook|\n",
    "|Tensor Flow|\n",
    "|Apache Spark|"
   ]
  },
  {
   "attachments": {},
   "cell_type": "markdown",
   "id": "80c41d3b-322d-4bd3-835d-ef08ce49d2da",
   "metadata": {},
   "source": [
    "### Below are a few examples of evaluating arithmetic expressions in Python\n"
   ]
  },
  {
   "cell_type": "markdown",
   "id": "2db4bfef-ea03-427c-8e8c-a44d8d3a7f61",
   "metadata": {},
   "source": [
    "This a simple arithmetic expression to mutiply then add integers"
   ]
  },
  {
   "cell_type": "code",
   "execution_count": 10,
   "id": "a6b81c4c-46aa-4c16-b2f6-47f0d8bad46f",
   "metadata": {},
   "outputs": [
    {
     "data": {
      "text/plain": [
       "17"
      ]
     },
     "execution_count": 10,
     "metadata": {},
     "output_type": "execute_result"
    }
   ],
   "source": [
    "(3*4)+5"
   ]
  },
  {
   "cell_type": "markdown",
   "id": "b3e77a53-e7c9-4272-ae6e-a0fcf67cfe12",
   "metadata": {},
   "source": [
    "This will convert 200 mins to hours by dividing by 60 "
   ]
  },
  {
   "cell_type": "code",
   "execution_count": 14,
   "id": "1433f85e-d945-42e8-93fd-bc9fe3ba3b03",
   "metadata": {},
   "outputs": [
    {
     "data": {
      "text/plain": [
       "3.3333333333333335"
      ]
     },
     "execution_count": 14,
     "metadata": {},
     "output_type": "execute_result"
    }
   ],
   "source": [
    "200/60"
   ]
  },
  {
   "cell_type": "markdown",
   "id": "457c859f-ed56-4493-bad6-7f41a58f7dc5",
   "metadata": {},
   "source": [
    "## Author\n",
    "Asha Ghoshal"
   ]
  },
  {
   "cell_type": "code",
   "execution_count": null,
   "id": "8b13367d-ce91-4ecb-9d0b-03c66158460d",
   "metadata": {},
   "outputs": [],
   "source": []
  }
 ],
 "metadata": {
  "kernelspec": {
   "display_name": "Python 3 (ipykernel)",
   "language": "python",
   "name": "python3"
  },
  "language_info": {
   "codemirror_mode": {
    "name": "ipython",
    "version": 3
   },
   "file_extension": ".py",
   "mimetype": "text/x-python",
   "name": "python",
   "nbconvert_exporter": "python",
   "pygments_lexer": "ipython3",
   "version": "3.12.4"
  }
 },
 "nbformat": 4,
 "nbformat_minor": 5
}
